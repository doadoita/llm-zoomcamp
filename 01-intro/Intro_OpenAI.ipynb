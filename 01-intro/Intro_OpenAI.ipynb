{
 "cells": [
  {
   "cell_type": "code",
   "execution_count": 2,
   "id": "047f687c-0953-497c-a5e9-652f2eac905e",
   "metadata": {},
   "outputs": [],
   "source": [
    "import openai"
   ]
  },
  {
   "cell_type": "code",
   "execution_count": 3,
   "id": "1d374520-60d2-4c3f-b540-52e79268faa2",
   "metadata": {},
   "outputs": [],
   "source": [
    "from openai import OpenAI"
   ]
  },
  {
   "cell_type": "code",
   "execution_count": 4,
   "id": "ca8089fb-733e-4eb0-9ede-4e7b8da21d02",
   "metadata": {},
   "outputs": [],
   "source": [
    "client = OpenAI()"
   ]
  },
  {
   "cell_type": "code",
   "execution_count": 8,
   "id": "d4248c5d-e0a5-411f-9d58-47e99ea9ed1e",
   "metadata": {},
   "outputs": [],
   "source": [
    "response = client.chat.completions.create(\n",
    "    model='gpt-4o',\n",
    "    messages=[{\"role\": \"user\", \"content\": \"is it too late to join the course?\"}]\n",
    ")"
   ]
  },
  {
   "cell_type": "code",
   "execution_count": 9,
   "id": "3a3a1a67-2934-463c-8c4b-16429926e837",
   "metadata": {},
   "outputs": [
    {
     "data": {
      "text/plain": [
       "ChatCompletion(id='chatcmpl-9sfcW0HIOjtsX8R7udP5josrqi18t', choices=[Choice(finish_reason='stop', index=0, logprobs=None, message=ChatCompletionMessage(content=\"It depends on the specific course you are interested in. Each course may have different enrollment deadlines and policies regarding late registration. \\n\\nTo find out if it is too late to join a particular course, check the course's official website or contact the course provider or institution directly. They can provide you with the most accurate information regarding enrollment deadlines and any potential options for late registration.\", role='assistant', function_call=None, tool_calls=None))], created=1722816728, model='gpt-4o-2024-05-13', object='chat.completion', service_tier=None, system_fingerprint='fp_3cd8b62c3b', usage=CompletionUsage(completion_tokens=74, prompt_tokens=16, total_tokens=90))"
      ]
     },
     "execution_count": 9,
     "metadata": {},
     "output_type": "execute_result"
    }
   ],
   "source": [
    "response"
   ]
  },
  {
   "cell_type": "code",
   "execution_count": null,
   "id": "e527624f-df40-4cda-8ce0-a79b3819f4af",
   "metadata": {},
   "outputs": [],
   "source": [
    "#response.choices(0).messages.content"
   ]
  }
 ],
 "metadata": {
  "kernelspec": {
   "display_name": "Python 3 (ipykernel)",
   "language": "python",
   "name": "python3"
  },
  "language_info": {
   "codemirror_mode": {
    "name": "ipython",
    "version": 3
   },
   "file_extension": ".py",
   "mimetype": "text/x-python",
   "name": "python",
   "nbconvert_exporter": "python",
   "pygments_lexer": "ipython3",
   "version": "3.10.13"
  }
 },
 "nbformat": 4,
 "nbformat_minor": 5
}

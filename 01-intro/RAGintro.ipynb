{
 "cells": [
  {
   "cell_type": "code",
   "execution_count": 6,
   "id": "a28df2af-6584-4b23-a014-366d6a49fbaa",
   "metadata": {},
   "outputs": [
    {
     "name": "stdout",
     "output_type": "stream",
     "text": [
      "\n",
      "Saved under minsearch.py\n"
     ]
    }
   ],
   "source": [
    "!python -m wget https://raw.githubusercontent.com/alexeygrigorev/minsearch/main/minsearch.py"
   ]
  },
  {
   "cell_type": "code",
   "execution_count": 8,
   "id": "8467801b-a04f-4de0-baa2-bce9aa89a07a",
   "metadata": {},
   "outputs": [],
   "source": [
    "import minsearch"
   ]
  },
  {
   "cell_type": "code",
   "execution_count": 9,
   "id": "58c7496a-a0d7-4495-8969-a6275df44dbc",
   "metadata": {},
   "outputs": [],
   "source": [
    "import json\n",
    "\n",
    "with open('documents.json', 'rt') as f_in:\n",
    "    docs_raw = json.load(f_in)"
   ]
  },
  {
   "cell_type": "code",
   "execution_count": 11,
   "id": "79e1a809-b954-43b5-9be5-281cef41262b",
   "metadata": {},
   "outputs": [],
   "source": [
    "documents = []\n",
    "\n",
    "for course_dict in docs_raw:\n",
    "    for doc in course_dict['documents']:\n",
    "        doc['course'] = course_dict['course']\n",
    "        documents.append(doc)"
   ]
  },
  {
   "cell_type": "code",
   "execution_count": 12,
   "id": "b3a9c990-8b69-4f4a-b357-1361723255a7",
   "metadata": {},
   "outputs": [
    {
     "data": {
      "text/plain": [
       "{'text': \"The purpose of this document is to capture frequently asked technical questions\\nThe exact day and hour of the course will be 15th Jan 2024 at 17h00. The course will start with the first  “Office Hours'' live.1\\nSubscribe to course public Google Calendar (it works from Desktop only).\\nRegister before the course starts using this link.\\nJoin the course Telegram channel with announcements.\\nDon’t forget to register in DataTalks.Club's Slack and join the channel.\",\n",
       " 'section': 'General course-related questions',\n",
       " 'question': 'Course - When will the course start?',\n",
       " 'course': 'data-engineering-zoomcamp'}"
      ]
     },
     "execution_count": 12,
     "metadata": {},
     "output_type": "execute_result"
    }
   ],
   "source": [
    "documents[0]"
   ]
  },
  {
   "cell_type": "code",
   "execution_count": 15,
   "id": "2f9f8453-b7b4-4a33-b25d-38d0c4b12ecf",
   "metadata": {},
   "outputs": [],
   "source": [
    "index = minsearch.Index(\n",
    "    text_fields=[\"question\", \"text\", \"section\"],\n",
    "    keyword_fields=[\"course\"]\n",
    ")"
   ]
  },
  {
   "cell_type": "code",
   "execution_count": null,
   "id": "5d41896d-428c-4564-bf0b-3f940d4eee55",
   "metadata": {},
   "outputs": [],
   "source": [
    "SELECT  * WHERE course = 'data-engineering-zoomcamp';\n"
   ]
  },
  {
   "cell_type": "code",
   "execution_count": 13,
   "id": "d85b3511-f424-4bac-9225-4e3ce52bd46c",
   "metadata": {},
   "outputs": [],
   "source": [
    "q = 'the course has already started, can I still enroll?'"
   ]
  },
  {
   "cell_type": "code",
   "execution_count": 16,
   "id": "8973b9f3-574a-4e1b-b9a7-a11c5cd5f58d",
   "metadata": {},
   "outputs": [
    {
     "data": {
      "text/plain": [
       "<minsearch.Index at 0x20a7f073680>"
      ]
     },
     "execution_count": 16,
     "metadata": {},
     "output_type": "execute_result"
    }
   ],
   "source": [
    "index.fit(documents)"
   ]
  },
  {
   "cell_type": "code",
   "execution_count": 20,
   "id": "d58dd107-6ef2-4747-a1b2-2d3e9a0b0edd",
   "metadata": {},
   "outputs": [],
   "source": [
    "boost ={'question': 3.0, 'section':0.5}\n",
    "\n",
    "results = index.search(\n",
    "    query=q,\n",
    "    filter_dict={'course':'data-engineering-zoomcamp'},\n",
    "    boost_dict=boost,\n",
    "    num_results=5\n",
    ")\n",
    "    "
   ]
  },
  {
   "cell_type": "code",
   "execution_count": 21,
   "id": "93c835b5-3676-4f68-bac9-81f36a093c09",
   "metadata": {
    "scrolled": true
   },
   "outputs": [
    {
     "data": {
      "text/plain": [
       "[{'text': \"Yes, even if you don't register, you're still eligible to submit the homeworks.\\nBe aware, however, that there will be deadlines for turning in the final projects. So don't leave everything for the last minute.\",\n",
       "  'section': 'General course-related questions',\n",
       "  'question': 'Course - Can I still join the course after the start date?',\n",
       "  'course': 'data-engineering-zoomcamp'},\n",
       " {'text': 'Yes, we will keep all the materials after the course finishes, so you can follow the course at your own pace after it finishes.\\nYou can also continue looking at the homeworks and continue preparing for the next cohort. I guess you can also start working on your final capstone project.',\n",
       "  'section': 'General course-related questions',\n",
       "  'question': 'Course - Can I follow the course after it finishes?',\n",
       "  'course': 'data-engineering-zoomcamp'},\n",
       " {'text': \"The purpose of this document is to capture frequently asked technical questions\\nThe exact day and hour of the course will be 15th Jan 2024 at 17h00. The course will start with the first  “Office Hours'' live.1\\nSubscribe to course public Google Calendar (it works from Desktop only).\\nRegister before the course starts using this link.\\nJoin the course Telegram channel with announcements.\\nDon’t forget to register in DataTalks.Club's Slack and join the channel.\",\n",
       "  'section': 'General course-related questions',\n",
       "  'question': 'Course - When will the course start?',\n",
       "  'course': 'data-engineering-zoomcamp'},\n",
       " {'text': 'You can start by installing and setting up all the dependencies and requirements:\\nGoogle cloud account\\nGoogle Cloud SDK\\nPython 3 (installed with Anaconda)\\nTerraform\\nGit\\nLook over the prerequisites and syllabus to see if you are comfortable with these subjects.',\n",
       "  'section': 'General course-related questions',\n",
       "  'question': 'Course - What can I do before the course starts?',\n",
       "  'course': 'data-engineering-zoomcamp'},\n",
       " {'text': 'Yes, the slack channel remains open and you can ask questions there. But always sDocker containers exit code w search the channel first and second, check the FAQ (this document), most likely all your questions are already answered here.\\nYou can also tag the bot @ZoomcampQABot to help you conduct the search, but don’t rely on its answers 100%, it is pretty good though.',\n",
       "  'section': 'General course-related questions',\n",
       "  'question': 'Course - Can I get support if I take the course in the self-paced mode?',\n",
       "  'course': 'data-engineering-zoomcamp'}]"
      ]
     },
     "execution_count": 21,
     "metadata": {},
     "output_type": "execute_result"
    }
   ],
   "source": [
    "results"
   ]
  },
  {
   "cell_type": "code",
   "execution_count": 22,
   "id": "ef1cb919-d441-474f-b6fe-24bd7d2586aa",
   "metadata": {},
   "outputs": [],
   "source": [
    "from openai  import OpenAI"
   ]
  },
  {
   "cell_type": "code",
   "execution_count": 31,
   "id": "576298f3-e3d6-441d-a450-12cafd6a8075",
   "metadata": {},
   "outputs": [],
   "source": [
    "client = OpenAI()"
   ]
  },
  {
   "cell_type": "code",
   "execution_count": 35,
   "id": "78f808ec-9d00-4678-aa1d-b7b757c10b1f",
   "metadata": {},
   "outputs": [],
   "source": [
    "response = client.chat.completions.create(\n",
    "    model='gpt-4o',\n",
    "    messages=[{\"role\":\"user\",\"content\":q}]\n",
    ")\n",
    "\n",
    "response"
   ]
  },
  {
   "cell_type": "code",
   "execution_count": 40,
   "id": "9bb258a4-a161-4577-9cfc-2a09ea30017d",
   "metadata": {},
   "outputs": [
    {
     "data": {
      "text/plain": [
       "\"If the course has already started, whether you can still enroll depends on several factors including the institution's policies, the specific course, and how much time has elapsed since the start date. Here are some steps you can take:\\n\\n1. **Check the Enrollment Policy:** Look for the enrollment or add/drop policy on the institution’s website. Some institutions allow late enrollment within a certain timeframe.\\n\\n2. **Contact the Instructor:** Reach out to the course instructor to see if they are willing to allow you to join late. Explain your situation and express your commitment to catching up.\\n\\n3. **Administrative Offices:** Contact the registrar's office or student services. They can provide information on whether late enrollment is possible and what steps you need to take.\\n\\n4. **Self-Assessment:** Consider your ability to catch up on missed lectures, assignments, or exams. Some courses may be more flexible than others when it comes to catching up.\\n\\n5. **Financial Aid:** If you're receiving financial aid, check to see if late enrollment impacts your eligibility. Speak with the financial aid office for guidance.\\n\\nAct quickly, as the sooner you address this, the better your chances of being able to enroll and successfully catch up with the course material.\""
      ]
     },
     "execution_count": 40,
     "metadata": {},
     "output_type": "execute_result"
    }
   ],
   "source": [
    "response.choices[0].message.content"
   ]
  },
  {
   "cell_type": "code",
   "execution_count": 47,
   "id": "dcade619-4161-4eb9-beab-1be056ae4ba1",
   "metadata": {},
   "outputs": [],
   "source": [
    "prompt_template = \"\"\"\n",
    "You're a course teaching assistant. Answer the QUESTION based on the CONTEXT from FAQ database.\n",
    "Use only the facts from the CONTEXT when answering the QUESTION.\n",
    "If the CONTEXT doesn't contain the answer, output NONE.\n",
    "\n",
    "QUESTION: {question}\n",
    "\n",
    "CONTEXT:\n",
    "{context}\n",
    "\"\"\".strip()"
   ]
  },
  {
   "cell_type": "code",
   "execution_count": 48,
   "id": "0a9f4749-afe8-468e-9ad8-57bbc02f7bba",
   "metadata": {},
   "outputs": [],
   "source": [
    "context = \"\"\n",
    "\n",
    "for doc in results:\n",
    "    context = context + f\"section: {doc['section']}\\nquestion: {doc['question']}\\nanswer: {doc['text']}\\n\\n\""
   ]
  },
  {
   "cell_type": "code",
   "execution_count": 49,
   "id": "7790f386-9c43-4d32-8e5c-ad788cbd3184",
   "metadata": {},
   "outputs": [],
   "source": [
    "prompt = prompt_template.format(question=q, context=context).strip()"
   ]
  },
  {
   "cell_type": "code",
   "execution_count": 51,
   "id": "d09d0967-658a-4428-b5d0-243d4645554a",
   "metadata": {},
   "outputs": [
    {
     "data": {
      "text/plain": [
       "ChatCompletion(id='chatcmpl-9tHoSYbkbMDyhttjmoQqFrhxzDmLE', choices=[Choice(finish_reason='stop', index=0, logprobs=None, message=ChatCompletionMessage(content='Yes, you can still enroll in the course after it has started. You are eligible to submit the homeworks, but be mindful of the deadlines for turning in the final projects. So, don’t leave everything for the last minute.', role='assistant', function_call=None, tool_calls=None))], created=1722963540, model='gpt-4o-2024-05-13', object='chat.completion', service_tier=None, system_fingerprint='fp_3aa7262c27', usage=CompletionUsage(completion_tokens=47, prompt_tokens=514, total_tokens=561))"
      ]
     },
     "execution_count": 51,
     "metadata": {},
     "output_type": "execute_result"
    }
   ],
   "source": [
    "response = client.chat.completions.create(\n",
    "    model='gpt-4o',\n",
    "    messages=[{\"role\":\"user\",\"content\":prompt}]\n",
    ")\n",
    "\n"
   ]
  },
  {
   "cell_type": "code",
   "execution_count": 52,
   "id": "46c2c2c4-c927-4200-82c4-cc6136c7f5e5",
   "metadata": {},
   "outputs": [
    {
     "data": {
      "text/plain": [
       "'Yes, you can still enroll in the course after it has started. You are eligible to submit the homeworks, but be mindful of the deadlines for turning in the final projects. So, don’t leave everything for the last minute.'"
      ]
     },
     "execution_count": 52,
     "metadata": {},
     "output_type": "execute_result"
    }
   ],
   "source": [
    "response.choices[0].message.content"
   ]
  },
  {
   "cell_type": "code",
   "execution_count": 80,
   "id": "cc51d6f6-bff0-4e2c-8891-b0c28b32d6d5",
   "metadata": {},
   "outputs": [],
   "source": [
    "def search(query):\n",
    "    boost ={'question': 3.0, 'section':0.5} #le da más peso a si hay una coincidencia de palabras entre el query y la pregunta.\n",
    "    \n",
    "    results = index.search(\n",
    "        query=query,\n",
    "        filter_dict={'course':'data-engineering-zoomcamp'},\n",
    "        boost_dict=boost,\n",
    "        num_results=10\n",
    "    )\n",
    "\n",
    "    return results\n",
    "    "
   ]
  },
  {
   "cell_type": "code",
   "execution_count": 81,
   "id": "18452161-3cd4-4d60-9884-e9a32805b218",
   "metadata": {},
   "outputs": [],
   "source": [
    "def build_prompt(query, search_results):\n",
    "    prompt_template = \"\"\"\n",
    "    You're a course teaching assistant. Answer the QUESTION based on the CONTEXT from FAQ database.\n",
    "    Use only the facts from the CONTEXT when answering the QUESTION.\n",
    "    If the CONTEXT doesn't contain the answer, output NONE.\n",
    "    \n",
    "    QUESTION: {question}\n",
    "    \n",
    "    CONTEXT:\n",
    "    {context}\n",
    "    \"\"\".strip()\n",
    "\n",
    "    context = \"\"\n",
    "    \n",
    "    for doc in search_results:\n",
    "        context = context + f\"section: {doc['section']}\\nquestion: {doc['question']}\\nanswer: {doc['text']}\\n\\n\"\n",
    "    \n",
    "    prompt = prompt_template.format(question=query, context=context).strip()\n",
    "\n",
    "    return prompt\n",
    "    "
   ]
  },
  {
   "cell_type": "code",
   "execution_count": 82,
   "id": "14807d6e-4dc2-42f0-b3ad-8e6a3804b2a6",
   "metadata": {},
   "outputs": [],
   "source": [
    "def llm(prompt):\n",
    "    response = client.chat.completions.create(\n",
    "        model='gpt-4o',\n",
    "        messages=[{\"role\":\"user\",\"content\":prompt}]\n",
    "    )\n",
    "    \n",
    "    return response.choices[0].message.content"
   ]
  },
  {
   "cell_type": "code",
   "execution_count": 87,
   "id": "73aac3a1-88f1-4f2c-8ef5-6cfd93c22351",
   "metadata": {},
   "outputs": [],
   "source": [
    "query = 'how do i run kafka?'\n",
    "\n",
    "def rag(query):\n",
    "    \n",
    "    search_results= search(query)\n",
    "    prompt = build_prompt(query, search_results)\n",
    "    answer = llm(prompt)\n",
    "\n",
    "    return answer"
   ]
  },
  {
   "cell_type": "code",
   "execution_count": 88,
   "id": "1cd93634-306e-421f-8994-bb3acf541ebd",
   "metadata": {},
   "outputs": [
    {
     "data": {
      "text/plain": [
       "'To run Kafka, follow these steps based on the context for Java and Python setups:\\n\\n### For Java:\\nIn the project directory, run:\\n```bash\\njava -cp build/libs/<jar_name>-1.0-SNAPSHOT.jar:out src/main/java/org/example/JsonProducer.java\\n```\\n\\n### For Python:\\n1. **If you encounter a \"Module \\'kafka\\' not found\" error when trying to run `producer.py`:**\\n   - Create a virtual environment and install the necessary packages:\\n     ```bash\\n     python -m venv env\\n     source env/bin/activate\\n     pip install -r ../requirements.txt\\n     ```\\n   - To activate the virtual environment:\\n     ```bash\\n     source env/bin/activate\\n     ```\\n   - To deactivate it:\\n     ```bash\\n     deactivate\\n     ```\\n   - For Windows, the activation command is:\\n     ```bash\\n     env/Scripts/activate\\n     ```\\n\\n2. **For permissions issues with `build.sh`:**\\n   - Run the following command in the terminal in the same directory:\\n     ```bash\\n     chmod +x build.sh\\n     ```\\n\\n3. **For Docker-related issues such as \"NoBrokersAvailable\":**\\n   - Check if the Kafka broker Docker container is running:\\n     ```bash\\n     docker ps\\n     ```\\n   - If it’s not running, navigate to the Docker Compose YAML file folder and start the instances:\\n     ```bash\\n     docker compose up -d\\n     ```\\n\\n### Additional Resources:\\n- For dependency issues with Python Kafka:\\n  ```bash\\n  pip install confluent-kafka fastavro\\n  ```\\n\\n### Notes:\\n- Ensure that Docker containers are running if you\\'re using Docker.\\n- Use Docker commands to troubleshoot and manage services.\\n\\nIf you need further details or the specific setup process isn’t covered here, it’s advisable to refer to your course materials or seek help from the course instructor.'"
      ]
     },
     "execution_count": 88,
     "metadata": {},
     "output_type": "execute_result"
    }
   ],
   "source": [
    "rag(query)"
   ]
  },
  {
   "cell_type": "code",
   "execution_count": null,
   "id": "86ccd5d9-429c-4504-8e67-9574b26635f4",
   "metadata": {},
   "outputs": [],
   "source": []
  }
 ],
 "metadata": {
  "kernelspec": {
   "display_name": "Python 3 (ipykernel)",
   "language": "python",
   "name": "python3"
  },
  "language_info": {
   "codemirror_mode": {
    "name": "ipython",
    "version": 3
   },
   "file_extension": ".py",
   "mimetype": "text/x-python",
   "name": "python",
   "nbconvert_exporter": "python",
   "pygments_lexer": "ipython3",
   "version": "3.12.4"
  }
 },
 "nbformat": 4,
 "nbformat_minor": 5
}
